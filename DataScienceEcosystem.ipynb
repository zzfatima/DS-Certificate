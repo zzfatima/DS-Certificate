{
 "cells": [
  {
   "cell_type": "markdown",
   "id": "14eb9090-e45a-4199-adce-fe53ff5ad4a6",
   "metadata": {},
   "source": [
    "<H1>Data Science Tools and Ecosystem</H1>"
   ]
  },
  {
   "cell_type": "markdown",
   "id": "90c56235-1af9-4e44-9cdb-c1ee900d8818",
   "metadata": {},
   "source": [
    "In this notebook, Data Science Tools and Ecosystem are summarized."
   ]
  },
  {
   "cell_type": "markdown",
   "id": "c416d74d-d620-46d4-b2cd-3b0bb347382b",
   "metadata": {},
   "source": [
    "**Objectives**\n",
    "- List popular languages for Data Science\n",
    "- List popular data science libraries\n",
    "- List three development environment open source tools\n",
    "- Evaluate arithmetic expressions in Python"
   ]
  },
  {
   "cell_type": "markdown",
   "id": "847f475d-d9c3-4d90-8e9c-b3145269725c",
   "metadata": {},
   "source": [
    "Some of the popular languages that Data Scientists use are:\n",
    "1. Python\n",
    "2. SQL\n",
    "3. R\n",
    "4. Scala\n",
    "5. Julia\n"
   ]
  },
  {
   "cell_type": "markdown",
   "id": "6edfaa78-be2a-4d15-871e-7b1685d257ef",
   "metadata": {},
   "source": [
    "Some of the commonly used libraries used by Data Scientists include:\n",
    "1. Pandas\n",
    "2. Numpy\n",
    "3. SciPy"
   ]
  },
  {
   "cell_type": "markdown",
   "id": "67b7f686-7ec9-4d48-8d9c-a8adc680c577",
   "metadata": {},
   "source": [
    "| Data Science Tools|\n",
    "|-------------------|\n",
    "| Jupyter Notebook/JupyterLab | \n",
    "| VS Code (Visual Studio Code)|\n",
    "| R Studio|"
   ]
  },
  {
   "cell_type": "markdown",
   "id": "8f960b1a-6f99-4033-a476-2f4ca074bce8",
   "metadata": {},
   "source": [
    "<H3>Below are a few examples of evaluating arithmetic expressions in Python</H3>"
   ]
  },
  {
   "cell_type": "code",
   "execution_count": 2,
   "id": "a66a9ec7-7e9a-4e4a-8591-493891d71a81",
   "metadata": {},
   "outputs": [
    {
     "data": {
      "text/plain": [
       "17"
      ]
     },
     "execution_count": 2,
     "metadata": {},
     "output_type": "execute_result"
    }
   ],
   "source": [
    "#This a simple arithmetic expression to mutiply then add integers\n",
    "(3*4)+5"
   ]
  },
  {
   "cell_type": "code",
   "execution_count": 3,
   "id": "d8a6a91a-cf85-48df-aa60-8b4b2d6653a0",
   "metadata": {},
   "outputs": [
    {
     "data": {
      "text/plain": [
       "3.3333333333333335"
      ]
     },
     "execution_count": 3,
     "metadata": {},
     "output_type": "execute_result"
    }
   ],
   "source": [
    "#This will convert 200 minutes to hours by diving by 60\n",
    "200/60"
   ]
  },
  {
   "cell_type": "markdown",
   "id": "bc3fc077-5e05-45a4-b6d7-6909fcb30b4f",
   "metadata": {},
   "source": [
    "<H2>Author</H2>\n",
    "Zainab Fatima"
   ]
  },
  {
   "cell_type": "code",
   "execution_count": null,
   "id": "bffc499d-e36d-453c-baa9-4afcc1bc5b50",
   "metadata": {},
   "outputs": [],
   "source": []
  }
 ],
 "metadata": {
  "kernelspec": {
   "display_name": "Python 3 (ipykernel)",
   "language": "python",
   "name": "python3"
  },
  "language_info": {
   "codemirror_mode": {
    "name": "ipython",
    "version": 3
   },
   "file_extension": ".py",
   "mimetype": "text/x-python",
   "name": "python",
   "nbconvert_exporter": "python",
   "pygments_lexer": "ipython3",
   "version": "3.12.2"
  }
 },
 "nbformat": 4,
 "nbformat_minor": 5
}
